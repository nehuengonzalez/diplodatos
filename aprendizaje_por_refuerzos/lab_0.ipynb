{
 "cells": [
  {
   "cell_type": "markdown",
   "metadata": {},
   "source": [
    "# Laboratorio 0\n",
    "\n",
    "Curso Aprendizaje por Refuerzos, Diplomatura en Ciencia de Datos, Aprendizaje Automático y sus Aplicaciones\n",
    "\n",
    "FaMAF, 2019"
   ]
  },
  {
   "cell_type": "markdown",
   "metadata": {},
   "source": [
    "![water_environment](images/warmup_environment.png)"
   ]
  },
  {
   "cell_type": "markdown",
   "metadata": {},
   "source": [
    "## Responder:\n",
    "\n",
    "1. ¿Cuál sería la política óptima?\n",
    "\n",
    "2. ¿Cuál sería el valor de $v(D)$ bajo la Política 1 (asumiendo $\\gamma=1$)?\n",
    "    \n",
    "    Política 1: El agente elige la primera acción posible de la siguiente lista: \\[Derecha, Arriba, Izquierda, Abajo]\n",
    "3. ¿Cuál sería la recompensa acumulada $G_t$ de un agente que, de acuerdo a su política de actuación, realiza el recorrido \n",
    "\n",
    "    \\[D, E, B, C\\] desde $S_t = D$, asumiendo $\\gamma=0.1$?\n",
    "\n",
    "4. ¿Cuál sería el valor de $q(B, ↓)$ bajo la Política 1, asumiendo $\\gamma=1$? "
   ]
  },
  {
   "cell_type": "raw",
   "metadata": {},
   "source": [
    "1. Política óptima:\n",
    "    \n",
    "    Estado, Acción\n",
    "    A,      Derecha\n",
    "    B,      Derecha\n",
    "    C,      -\n",
    "    D,      Arriba\n",
    "    E,      Arriba    \n",
    "    F,      Arriba\n",
    "    G,      Arriba\n",
    "    H,      Izquierda   \n",
    "    I,      Izquierda/Arriba"
   ]
  },
  {
   "cell_type": "raw",
   "metadata": {},
   "source": [
    "2. V(D) bajo de Política 1:\n",
    "    \n",
    "    - 5 - 5 + 50 = 40"
   ]
  },
  {
   "cell_type": "raw",
   "metadata": {},
   "source": [
    "3. Recompensa acumulada: \n",
    "\n",
    "    - 5 -1*0.1 + 50*0.1^2 = - 4.6"
   ]
  },
  {
   "cell_type": "raw",
   "metadata": {},
   "source": [
    "4. 𝑞(𝐵,↓) bajo la Política 1: \n",
    "\n",
    "    - 5 - 5 + 50 = 40"
   ]
  }
 ],
 "metadata": {
  "kernelspec": {
   "display_name": "Python 3",
   "language": "python",
   "name": "python3"
  },
  "language_info": {
   "codemirror_mode": {
    "name": "ipython",
    "version": 3
   },
   "file_extension": ".py",
   "mimetype": "text/x-python",
   "name": "python",
   "nbconvert_exporter": "python",
   "pygments_lexer": "ipython3",
   "version": "3.6.8"
  }
 },
 "nbformat": 4,
 "nbformat_minor": 2
}
